{
 "cells": [
  {
   "cell_type": "code",
   "execution_count": null,
   "id": "ba7a0b5a-4f2d-4b61-9e00-94e544d34715",
   "metadata": {},
   "outputs": [],
   "source": [
    "%cat config.toml"
   ]
  },
  {
   "cell_type": "code",
   "execution_count": null,
   "id": "d4323566-4cd3-45ce-9af5-12a3e9373eb8",
   "metadata": {
    "scrolled": true
   },
   "outputs": [],
   "source": [
    "import aggcluster\n",
    "aggcluster.main([\"-h\"])"
   ]
  },
  {
   "cell_type": "code",
   "execution_count": null,
   "id": "00d24c16-f7af-484a-b5fc-df37954a2cf1",
   "metadata": {},
   "outputs": [],
   "source": [
    "aggcluster.main([\"-d 10\"])"
   ]
  }
 ],
 "metadata": {
  "kernelspec": {
   "display_name": "Python 3 (ipykernel)",
   "language": "python",
   "name": "python3"
  },
  "language_info": {
   "codemirror_mode": {
    "name": "ipython",
    "version": 3
   },
   "file_extension": ".py",
   "mimetype": "text/x-python",
   "name": "python",
   "nbconvert_exporter": "python",
   "pygments_lexer": "ipython3",
   "version": "3.11.2"
  }
 },
 "nbformat": 4,
 "nbformat_minor": 5
}
